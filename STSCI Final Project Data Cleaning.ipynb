{
 "cells": [
  {
   "cell_type": "code",
   "execution_count": 1,
   "id": "57c021dc",
   "metadata": {},
   "outputs": [],
   "source": [
    "import pandas as pd\n",
    "#read unemployment data\n",
    "unemployment=pd.read_excel(\"Unemployment.xlsx\")\n",
    "#unemployment \n"
   ]
  },
  {
   "cell_type": "code",
   "execution_count": 2,
   "id": "e35e3fb9",
   "metadata": {},
   "outputs": [],
   "source": [
    "#fix column names\n",
    "unemployment.columns = unemployment.iloc[3]\n",
    "#unemployment"
   ]
  },
  {
   "cell_type": "code",
   "execution_count": 3,
   "id": "f16c29b1",
   "metadata": {},
   "outputs": [],
   "source": [
    "#drop rows and reset index\n",
    "unemployment_fix=unemployment.drop([0,1,2,3])\n",
    "unemployment_reset=unemployment_fix.reset_index()\n",
    "\n"
   ]
  },
  {
   "cell_type": "code",
   "execution_count": 4,
   "id": "d81e2815",
   "metadata": {
    "scrolled": true
   },
   "outputs": [],
   "source": [
    "#drop column\n",
    "unemployment_drop=unemployment_reset.drop(['index'],axis=1)"
   ]
  },
  {
   "cell_type": "code",
   "execution_count": 5,
   "id": "0efac5eb",
   "metadata": {
    "scrolled": true
   },
   "outputs": [],
   "source": [
    "#subset dataframe\n",
    "unemployment_small=unemployment_drop[['FIPS_code','State','Area_name','Rural_urban_continuum_code_2013',\n",
    "       'Urban_influence_code_2013', 'Metro_2013', 'Unemployment_rate_2000','Unemployment_rate_2001', \n",
    "        'Unemployment_rate_2002',\n",
    "       'Unemployment_rate_2003','Unemployment_rate_2004',\n",
    "       'Unemployment_rate_2005', 'Unemployment_rate_2006',\n",
    "       'Unemployment_rate_2007','Unemployment_rate_2008',\n",
    "       'Unemployment_rate_2009','Unemployment_rate_2010',\n",
    "        'Median_Household_Income_2020',\n",
    "       'Med_HH_Income_Percent_of_State_Total_2020']]\n"
   ]
  },
  {
   "cell_type": "code",
   "execution_count": 6,
   "id": "4c46c772",
   "metadata": {
    "scrolled": false
   },
   "outputs": [
    {
     "name": "stderr",
     "output_type": "stream",
     "text": [
      "C:\\Users\\jasmi\\AppData\\Local\\Temp\\ipykernel_6380\\2609893796.py:2: SettingWithCopyWarning: \n",
      "A value is trying to be set on a copy of a slice from a DataFrame.\n",
      "Try using .loc[row_indexer,col_indexer] = value instead\n",
      "\n",
      "See the caveats in the documentation: https://pandas.pydata.org/pandas-docs/stable/user_guide/indexing.html#returning-a-view-versus-a-copy\n",
      "  unemployment_small['average_unemployment_rate']=unemployment_small[['Unemployment_rate_2000','Unemployment_rate_2001',\n"
     ]
    }
   ],
   "source": [
    "#make new column that is the average of unemployment rates 2000 to 2010\n",
    "unemployment_small['average_unemployment_rate']=unemployment_small[['Unemployment_rate_2000','Unemployment_rate_2001', \n",
    "        'Unemployment_rate_2002',\n",
    "       'Unemployment_rate_2003','Unemployment_rate_2004',\n",
    "       'Unemployment_rate_2005', 'Unemployment_rate_2006',\n",
    "       'Unemployment_rate_2007','Unemployment_rate_2008',\n",
    "       'Unemployment_rate_2009','Unemployment_rate_2010']].mean(axis=1)"
   ]
  },
  {
   "cell_type": "code",
   "execution_count": 7,
   "id": "cca2d274",
   "metadata": {
    "scrolled": false
   },
   "outputs": [
    {
     "name": "stderr",
     "output_type": "stream",
     "text": [
      "C:\\Users\\jasmi\\AppData\\Local\\Temp\\ipykernel_6380\\3503531421.py:2: SettingWithCopyWarning: \n",
      "A value is trying to be set on a copy of a slice from a DataFrame.\n",
      "Try using .loc[row_indexer,col_indexer] = value instead\n",
      "\n",
      "See the caveats in the documentation: https://pandas.pydata.org/pandas-docs/stable/user_guide/indexing.html#returning-a-view-versus-a-copy\n",
      "  unemployment_small['FIPS_code']=pd.to_numeric(unemployment_small['FIPS_code'])\n"
     ]
    }
   ],
   "source": [
    "#convert FIPS to numeric so that we can merge\n",
    "unemployment_small['FIPS_code']=pd.to_numeric(unemployment_small['FIPS_code'])\n",
    "#unemployment_small[unemployment_small['FIPS_code']==6003]\n"
   ]
  },
  {
   "cell_type": "code",
   "execution_count": 22,
   "id": "fe71e5a9",
   "metadata": {
    "scrolled": true
   },
   "outputs": [
    {
     "data": {
      "text/html": [
       "<div>\n",
       "<style scoped>\n",
       "    .dataframe tbody tr th:only-of-type {\n",
       "        vertical-align: middle;\n",
       "    }\n",
       "\n",
       "    .dataframe tbody tr th {\n",
       "        vertical-align: top;\n",
       "    }\n",
       "\n",
       "    .dataframe thead th {\n",
       "        text-align: right;\n",
       "    }\n",
       "</style>\n",
       "<table border=\"1\" class=\"dataframe\">\n",
       "  <thead>\n",
       "    <tr style=\"text-align: right;\">\n",
       "      <th></th>\n",
       "      <th>FIPS</th>\n",
       "      <th>State</th>\n",
       "      <th>County</th>\n",
       "      <th>Population_Served</th>\n",
       "      <th>Bladder_Count</th>\n",
       "      <th>Colorectal_Count</th>\n",
       "      <th>Kidney_Count</th>\n",
       "      <th>Total_CWS_County</th>\n",
       "      <th>unweighted</th>\n",
       "      <th>weighted</th>\n",
       "      <th>...</th>\n",
       "      <th>Percent_Ever_Had_Endoscopy</th>\n",
       "      <th>Percent_Ever_Smoked</th>\n",
       "      <th>EQI_AIR</th>\n",
       "      <th>EQI_WATER</th>\n",
       "      <th>EQI_LAND</th>\n",
       "      <th>EQI_SD</th>\n",
       "      <th>EQI_BUILT</th>\n",
       "      <th>EQI_OVERALL</th>\n",
       "      <th>unweighted_cat</th>\n",
       "      <th>weighted_cat</th>\n",
       "    </tr>\n",
       "  </thead>\n",
       "  <tbody>\n",
       "    <tr>\n",
       "      <th>0</th>\n",
       "      <td>6001</td>\n",
       "      <td>California</td>\n",
       "      <td>Alameda</td>\n",
       "      <td>328325</td>\n",
       "      <td>238</td>\n",
       "      <td>506</td>\n",
       "      <td>178</td>\n",
       "      <td>14</td>\n",
       "      <td>13.817619</td>\n",
       "      <td>14.701407</td>\n",
       "      <td>...</td>\n",
       "      <td>51.2</td>\n",
       "      <td>31.4</td>\n",
       "      <td>1.248786</td>\n",
       "      <td>1.272580</td>\n",
       "      <td>1.107635</td>\n",
       "      <td>-1.271590</td>\n",
       "      <td>-1.197254</td>\n",
       "      <td>1.905717</td>\n",
       "      <td>3</td>\n",
       "      <td>4</td>\n",
       "    </tr>\n",
       "    <tr>\n",
       "      <th>1</th>\n",
       "      <td>6003</td>\n",
       "      <td>California</td>\n",
       "      <td>Alpine</td>\n",
       "      <td>50</td>\n",
       "      <td>0</td>\n",
       "      <td>0</td>\n",
       "      <td>0</td>\n",
       "      <td>5</td>\n",
       "      <td>11.000000</td>\n",
       "      <td>27.111489</td>\n",
       "      <td>...</td>\n",
       "      <td>52.7</td>\n",
       "      <td>53.7</td>\n",
       "      <td>-1.253785</td>\n",
       "      <td>0.237081</td>\n",
       "      <td>0.746264</td>\n",
       "      <td>0.465065</td>\n",
       "      <td>-1.628784</td>\n",
       "      <td>0.229474</td>\n",
       "      <td>2</td>\n",
       "      <td>4</td>\n",
       "    </tr>\n",
       "    <tr>\n",
       "      <th>2</th>\n",
       "      <td>6005</td>\n",
       "      <td>California</td>\n",
       "      <td>Amador</td>\n",
       "      <td>5700</td>\n",
       "      <td>14</td>\n",
       "      <td>20</td>\n",
       "      <td>10</td>\n",
       "      <td>25</td>\n",
       "      <td>12.004667</td>\n",
       "      <td>11.216885</td>\n",
       "      <td>...</td>\n",
       "      <td>58.3</td>\n",
       "      <td>53.4</td>\n",
       "      <td>-0.507835</td>\n",
       "      <td>1.228148</td>\n",
       "      <td>1.141606</td>\n",
       "      <td>-0.707772</td>\n",
       "      <td>-0.597835</td>\n",
       "      <td>0.859964</td>\n",
       "      <td>2</td>\n",
       "      <td>3</td>\n",
       "    </tr>\n",
       "    <tr>\n",
       "      <th>3</th>\n",
       "      <td>6007</td>\n",
       "      <td>California</td>\n",
       "      <td>Butte</td>\n",
       "      <td>100086</td>\n",
       "      <td>67</td>\n",
       "      <td>105</td>\n",
       "      <td>36</td>\n",
       "      <td>53</td>\n",
       "      <td>19.324346</td>\n",
       "      <td>11.411614</td>\n",
       "      <td>...</td>\n",
       "      <td>52.2</td>\n",
       "      <td>44.5</td>\n",
       "      <td>0.138752</td>\n",
       "      <td>0.861382</td>\n",
       "      <td>1.038305</td>\n",
       "      <td>0.375840</td>\n",
       "      <td>-0.919210</td>\n",
       "      <td>0.689724</td>\n",
       "      <td>3</td>\n",
       "      <td>3</td>\n",
       "    </tr>\n",
       "    <tr>\n",
       "      <th>4</th>\n",
       "      <td>6009</td>\n",
       "      <td>California</td>\n",
       "      <td>Calaveras</td>\n",
       "      <td>1400</td>\n",
       "      <td>17</td>\n",
       "      <td>23</td>\n",
       "      <td>12</td>\n",
       "      <td>19</td>\n",
       "      <td>13.356833</td>\n",
       "      <td>13.014471</td>\n",
       "      <td>...</td>\n",
       "      <td>51.8</td>\n",
       "      <td>46.4</td>\n",
       "      <td>-0.678254</td>\n",
       "      <td>0.940576</td>\n",
       "      <td>0.626451</td>\n",
       "      <td>-0.491926</td>\n",
       "      <td>-0.031106</td>\n",
       "      <td>0.314156</td>\n",
       "      <td>3</td>\n",
       "      <td>4</td>\n",
       "    </tr>\n",
       "    <tr>\n",
       "      <th>...</th>\n",
       "      <td>...</td>\n",
       "      <td>...</td>\n",
       "      <td>...</td>\n",
       "      <td>...</td>\n",
       "      <td>...</td>\n",
       "      <td>...</td>\n",
       "      <td>...</td>\n",
       "      <td>...</td>\n",
       "      <td>...</td>\n",
       "      <td>...</td>\n",
       "      <td>...</td>\n",
       "      <td>...</td>\n",
       "      <td>...</td>\n",
       "      <td>...</td>\n",
       "      <td>...</td>\n",
       "      <td>...</td>\n",
       "      <td>...</td>\n",
       "      <td>...</td>\n",
       "      <td>...</td>\n",
       "      <td>...</td>\n",
       "      <td>...</td>\n",
       "    </tr>\n",
       "    <tr>\n",
       "      <th>938</th>\n",
       "      <td>55133</td>\n",
       "      <td>Wisconsin</td>\n",
       "      <td>Waukesha</td>\n",
       "      <td>72</td>\n",
       "      <td>104</td>\n",
       "      <td>164</td>\n",
       "      <td>75</td>\n",
       "      <td>68</td>\n",
       "      <td>22.293586</td>\n",
       "      <td>8.318664</td>\n",
       "      <td>...</td>\n",
       "      <td>69.0</td>\n",
       "      <td>42.3</td>\n",
       "      <td>1.390798</td>\n",
       "      <td>0.827305</td>\n",
       "      <td>1.043117</td>\n",
       "      <td>-2.497820</td>\n",
       "      <td>-0.324573</td>\n",
       "      <td>2.005988</td>\n",
       "      <td>3</td>\n",
       "      <td>3</td>\n",
       "    </tr>\n",
       "    <tr>\n",
       "      <th>939</th>\n",
       "      <td>55135</td>\n",
       "      <td>Wisconsin</td>\n",
       "      <td>Waupaca</td>\n",
       "      <td>71</td>\n",
       "      <td>18</td>\n",
       "      <td>27</td>\n",
       "      <td>11</td>\n",
       "      <td>11</td>\n",
       "      <td>27.083571</td>\n",
       "      <td>13.480546</td>\n",
       "      <td>...</td>\n",
       "      <td>63.5</td>\n",
       "      <td>54.1</td>\n",
       "      <td>0.507933</td>\n",
       "      <td>0.842471</td>\n",
       "      <td>0.628003</td>\n",
       "      <td>-1.033110</td>\n",
       "      <td>-0.638010</td>\n",
       "      <td>1.138126</td>\n",
       "      <td>4</td>\n",
       "      <td>4</td>\n",
       "    </tr>\n",
       "    <tr>\n",
       "      <th>940</th>\n",
       "      <td>55137</td>\n",
       "      <td>Wisconsin</td>\n",
       "      <td>Waushara</td>\n",
       "      <td>2110</td>\n",
       "      <td>6</td>\n",
       "      <td>8</td>\n",
       "      <td>5</td>\n",
       "      <td>9</td>\n",
       "      <td>11.563444</td>\n",
       "      <td>4.595370</td>\n",
       "      <td>...</td>\n",
       "      <td>55.9</td>\n",
       "      <td>52.9</td>\n",
       "      <td>-0.293853</td>\n",
       "      <td>0.820087</td>\n",
       "      <td>0.513821</td>\n",
       "      <td>-0.037370</td>\n",
       "      <td>-0.252932</td>\n",
       "      <td>0.300837</td>\n",
       "      <td>2</td>\n",
       "      <td>2</td>\n",
       "    </tr>\n",
       "    <tr>\n",
       "      <th>941</th>\n",
       "      <td>55139</td>\n",
       "      <td>Wisconsin</td>\n",
       "      <td>Winnebago</td>\n",
       "      <td>2000</td>\n",
       "      <td>55</td>\n",
       "      <td>57</td>\n",
       "      <td>29</td>\n",
       "      <td>10</td>\n",
       "      <td>16.206898</td>\n",
       "      <td>3.487542</td>\n",
       "      <td>...</td>\n",
       "      <td>66.8</td>\n",
       "      <td>48.1</td>\n",
       "      <td>1.176307</td>\n",
       "      <td>0.754554</td>\n",
       "      <td>0.753328</td>\n",
       "      <td>-1.116332</td>\n",
       "      <td>-0.684961</td>\n",
       "      <td>1.438662</td>\n",
       "      <td>3</td>\n",
       "      <td>1</td>\n",
       "    </tr>\n",
       "    <tr>\n",
       "      <th>942</th>\n",
       "      <td>55141</td>\n",
       "      <td>Wisconsin</td>\n",
       "      <td>Wood</td>\n",
       "      <td>277</td>\n",
       "      <td>23</td>\n",
       "      <td>31</td>\n",
       "      <td>18</td>\n",
       "      <td>14</td>\n",
       "      <td>8.325952</td>\n",
       "      <td>6.133103</td>\n",
       "      <td>...</td>\n",
       "      <td>67.2</td>\n",
       "      <td>50.2</td>\n",
       "      <td>0.914527</td>\n",
       "      <td>0.788488</td>\n",
       "      <td>0.566960</td>\n",
       "      <td>-0.901823</td>\n",
       "      <td>-0.683901</td>\n",
       "      <td>1.219229</td>\n",
       "      <td>2</td>\n",
       "      <td>2</td>\n",
       "    </tr>\n",
       "  </tbody>\n",
       "</table>\n",
       "<p>943 rows × 23 columns</p>\n",
       "</div>"
      ],
      "text/plain": [
       "      FIPS       State     County  Population_Served Bladder_Count  \\\n",
       "0     6001  California    Alameda             328325           238   \n",
       "1     6003  California     Alpine                 50             0   \n",
       "2     6005  California     Amador               5700            14   \n",
       "3     6007  California      Butte             100086            67   \n",
       "4     6009  California  Calaveras               1400            17   \n",
       "..     ...         ...        ...                ...           ...   \n",
       "938  55133   Wisconsin   Waukesha                 72           104   \n",
       "939  55135   Wisconsin    Waupaca                 71            18   \n",
       "940  55137   Wisconsin   Waushara               2110             6   \n",
       "941  55139   Wisconsin  Winnebago               2000            55   \n",
       "942  55141   Wisconsin       Wood                277            23   \n",
       "\n",
       "    Colorectal_Count  Kidney_Count  Total_CWS_County  unweighted   weighted  \\\n",
       "0                506           178                14   13.817619  14.701407   \n",
       "1                  0             0                 5   11.000000  27.111489   \n",
       "2                 20            10                25   12.004667  11.216885   \n",
       "3                105            36                53   19.324346  11.411614   \n",
       "4                 23            12                19   13.356833  13.014471   \n",
       "..               ...           ...               ...         ...        ...   \n",
       "938              164            75                68   22.293586   8.318664   \n",
       "939               27            11                11   27.083571  13.480546   \n",
       "940                8             5                 9   11.563444   4.595370   \n",
       "941               57            29                10   16.206898   3.487542   \n",
       "942               31            18                14    8.325952   6.133103   \n",
       "\n",
       "     ...  Percent_Ever_Had_Endoscopy  Percent_Ever_Smoked   EQI_AIR  \\\n",
       "0    ...                        51.2                 31.4  1.248786   \n",
       "1    ...                        52.7                 53.7 -1.253785   \n",
       "2    ...                        58.3                 53.4 -0.507835   \n",
       "3    ...                        52.2                 44.5  0.138752   \n",
       "4    ...                        51.8                 46.4 -0.678254   \n",
       "..   ...                         ...                  ...       ...   \n",
       "938  ...                        69.0                 42.3  1.390798   \n",
       "939  ...                        63.5                 54.1  0.507933   \n",
       "940  ...                        55.9                 52.9 -0.293853   \n",
       "941  ...                        66.8                 48.1  1.176307   \n",
       "942  ...                        67.2                 50.2  0.914527   \n",
       "\n",
       "     EQI_WATER  EQI_LAND    EQI_SD  EQI_BUILT  EQI_OVERALL  unweighted_cat  \\\n",
       "0     1.272580  1.107635 -1.271590  -1.197254     1.905717               3   \n",
       "1     0.237081  0.746264  0.465065  -1.628784     0.229474               2   \n",
       "2     1.228148  1.141606 -0.707772  -0.597835     0.859964               2   \n",
       "3     0.861382  1.038305  0.375840  -0.919210     0.689724               3   \n",
       "4     0.940576  0.626451 -0.491926  -0.031106     0.314156               3   \n",
       "..         ...       ...       ...        ...          ...             ...   \n",
       "938   0.827305  1.043117 -2.497820  -0.324573     2.005988               3   \n",
       "939   0.842471  0.628003 -1.033110  -0.638010     1.138126               4   \n",
       "940   0.820087  0.513821 -0.037370  -0.252932     0.300837               2   \n",
       "941   0.754554  0.753328 -1.116332  -0.684961     1.438662               3   \n",
       "942   0.788488  0.566960 -0.901823  -0.683901     1.219229               2   \n",
       "\n",
       "     weighted_cat  \n",
       "0               4  \n",
       "1               4  \n",
       "2               3  \n",
       "3               3  \n",
       "4               4  \n",
       "..            ...  \n",
       "938             3  \n",
       "939             4  \n",
       "940             2  \n",
       "941             1  \n",
       "942             2  \n",
       "\n",
       "[943 rows x 23 columns]"
      ]
     },
     "execution_count": 22,
     "metadata": {},
     "output_type": "execute_result"
    }
   ],
   "source": [
    "Arsenic_data=pd.read_csv('Arsenic_Cancer_Final_2020Sept2.csv')\n",
    "Arsenic_data"
   ]
  },
  {
   "cell_type": "code",
   "execution_count": 25,
   "id": "9e0a8615",
   "metadata": {
    "scrolled": true
   },
   "outputs": [],
   "source": [
    "#merge data by FIPS\n",
    "df_merge=pd.merge(Arsenic_data,unemployment_small.rename(columns={'FIPS_code':'FIPS'}),on='FIPS')\n",
    "#df_merge[['State_x','County','State_y','Area_name']]\n",
    "#unemployment_small"
   ]
  },
  {
   "cell_type": "code",
   "execution_count": 10,
   "id": "38d66fe8",
   "metadata": {},
   "outputs": [],
   "source": [
    "#read gas data \n",
    "gas_df=pd.read_csv(\"oilgascounty.csv\")\n",
    "#make new column that is the average of oil 2000 to 2010\n",
    "gas_df['Avereage_oil']=gas_df[['oil2000', 'oil2001',\n",
    "       'oil2002', 'oil2003', 'oil2004', 'oil2005', 'oil2006', 'oil2007',\n",
    "       'oil2008', 'oil2009', 'oil2010', 'oil2011', 'gas2000', 'gas2001',\n",
    "       'gas2002', 'gas2003', 'gas2004', 'gas2005', 'gas2006', 'gas2007',\n",
    "       'gas2008', 'gas2009', 'gas2010']].mean(axis=1)\n",
    "#gas_df"
   ]
  },
  {
   "cell_type": "code",
   "execution_count": 27,
   "id": "1c976197",
   "metadata": {
    "scrolled": true
   },
   "outputs": [],
   "source": [
    "#merge gas with df_merge\n",
    "df_merge_final=pd.merge(df_merge,gas_df,on='FIPS')\n",
    "#df_merge_final"
   ]
  },
  {
   "cell_type": "code",
   "execution_count": 12,
   "id": "d78ade27",
   "metadata": {},
   "outputs": [],
   "source": [
    "#df_merge_final['geoid']"
   ]
  },
  {
   "cell_type": "code",
   "execution_count": 13,
   "id": "403e5d98",
   "metadata": {
    "scrolled": true
   },
   "outputs": [],
   "source": [
    "#drop replicate columns\n",
    "df_merge_done=df_merge_final.drop(['State_y','Area_name','Stabr', 'County_Name',\n",
    "       'Rural_Urban_Continuum_Code_2013', 'Urban_Influence_2013',\n",
    "       'Metro_Nonmetro_2013', 'Metro_Micro_Noncore_2013','geoid'],axis=1)\n",
    "#df_merge_done.columns"
   ]
  },
  {
   "cell_type": "code",
   "execution_count": 14,
   "id": "80a05412",
   "metadata": {},
   "outputs": [],
   "source": [
    "pop_count=pd.read_excel('PopulationEstimates (1).xlsx')\n",
    "pop_count.columns = pop_count.iloc[3]\n"
   ]
  },
  {
   "cell_type": "code",
   "execution_count": 15,
   "id": "bd2df466",
   "metadata": {},
   "outputs": [],
   "source": [
    "pop_count_fix=pop_count.drop([0,1,2,3])\n",
    "pop_count_reset=pop_count_fix.reset_index()"
   ]
  },
  {
   "cell_type": "code",
   "execution_count": 16,
   "id": "90dc366e",
   "metadata": {},
   "outputs": [],
   "source": [
    "pop_count_reset2=pop_count_reset.drop(['index'],axis=1)\n",
    "pop_count_reset2['Population_count']=(pop_count_reset['Population 2000']+pop_count_reset['Population 2010'])/2"
   ]
  },
  {
   "cell_type": "code",
   "execution_count": 17,
   "id": "fb7ab98c",
   "metadata": {},
   "outputs": [],
   "source": [
    "pop_count_drop=pop_count_reset2.drop(pop_count_reset2.columns[1:9],axis=1)"
   ]
  },
  {
   "cell_type": "code",
   "execution_count": 18,
   "id": "270859c3",
   "metadata": {
    "scrolled": true
   },
   "outputs": [],
   "source": [
    "pop_count_drop.rename(columns={'Federal Information Processing Standards (FIPS) Code':'FIPS'}, inplace=True)"
   ]
  },
  {
   "cell_type": "code",
   "execution_count": 19,
   "id": "819c671d",
   "metadata": {},
   "outputs": [],
   "source": [
    "pop_count_drop['FIPS']=pd.to_numeric(pop_count_drop['FIPS'])\n",
    "#pop_count_drop['FIPS']"
   ]
  },
  {
   "cell_type": "code",
   "execution_count": 29,
   "id": "0ca61839",
   "metadata": {},
   "outputs": [
    {
     "data": {
      "text/plain": [
       "19"
      ]
     },
     "execution_count": 29,
     "metadata": {},
     "output_type": "execute_result"
    }
   ],
   "source": [
    "df_merge_final_final=pd.merge(df_merge_done,pop_count_drop,on='FIPS')\n",
    "df_merge_final_final['State_x'].unique()"
   ]
  },
  {
   "cell_type": "code",
   "execution_count": 21,
   "id": "655b4bf7",
   "metadata": {},
   "outputs": [],
   "source": [
    "df_merge_final_final.to_csv('Arsenic_oil_employment_merged.csv',index=False)"
   ]
  },
  {
   "cell_type": "code",
   "execution_count": null,
   "id": "349f4470",
   "metadata": {},
   "outputs": [],
   "source": []
  }
 ],
 "metadata": {
  "kernelspec": {
   "display_name": "Python 3 (ipykernel)",
   "language": "python",
   "name": "python3"
  },
  "language_info": {
   "codemirror_mode": {
    "name": "ipython",
    "version": 3
   },
   "file_extension": ".py",
   "mimetype": "text/x-python",
   "name": "python",
   "nbconvert_exporter": "python",
   "pygments_lexer": "ipython3",
   "version": "3.8.13"
  }
 },
 "nbformat": 4,
 "nbformat_minor": 5
}
